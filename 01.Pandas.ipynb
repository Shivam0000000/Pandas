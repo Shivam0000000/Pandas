{
 "cells": [
  {
   "cell_type": "markdown",
   "id": "0c086259-20c4-48e2-a8b1-1d2694a962aa",
   "metadata": {},
   "source": [
    "Q1. Create a Pandas Series that contains the following data: 4, 8, 15, 16, 23, and 42. Then, print the series."
   ]
  },
  {
   "cell_type": "code",
   "execution_count": 2,
   "id": "e7923ce8-7563-499e-ab16-fa0065bd0d9a",
   "metadata": {},
   "outputs": [
    {
     "name": "stdout",
     "output_type": "stream",
     "text": [
      "0     4\n",
      "1     8\n",
      "2    15\n",
      "3    16\n",
      "4    23\n",
      "5    42\n",
      "dtype: int64\n",
      "<class 'pandas.core.series.Series'>\n"
     ]
    }
   ],
   "source": [
    "import pandas as pd\n",
    "data=pd.Series([4,8,15,16,23,42])\n",
    "print(data)\n",
    "print(type(data))"
   ]
  },
  {
   "cell_type": "markdown",
   "id": "51ebad71-1d2c-4716-93a6-bedfaa462d82",
   "metadata": {},
   "source": [
    "Q2. Create a variable of list type containing 10 elements in it, and apply pandas.Series function on the\n",
    "variable print it."
   ]
  },
  {
   "cell_type": "code",
   "execution_count": 3,
   "id": "fe4e77aa-b03c-4268-bbbd-a7ed0f5d2243",
   "metadata": {},
   "outputs": [
    {
     "name": "stdout",
     "output_type": "stream",
     "text": [
      "0    9\n",
      "1    3\n",
      "2    3\n",
      "3    6\n",
      "4    8\n",
      "5    5\n",
      "6    4\n",
      "7    6\n",
      "8    3\n",
      "9    7\n",
      "dtype: int64\n"
     ]
    }
   ],
   "source": [
    "l=[9, 3, 3, 6, 8, 5, 4, 6, 3, 7]\n",
    "print(pd.Series(l))"
   ]
  },
  {
   "cell_type": "markdown",
   "id": "c60b39d4-d7cf-42bc-a30d-931bab2c14e7",
   "metadata": {},
   "source": [
    "Q3. Create a Pandas DataFrame that contains the following data:\n",
    "\n",
    "Name: \n",
    "Alice\n",
    "Bob\n",
    "Claire\n",
    "\n",
    "Age: \n",
    "25\n",
    "30\n",
    "27\n",
    "\n",
    "Gender: \n",
    "Female\n",
    "Male\n",
    "Female\n",
    "\n",
    "\n",
    "\n",
    "Then, print the DataFrame."
   ]
  },
  {
   "cell_type": "code",
   "execution_count": 3,
   "id": "78440a24-cb88-451b-9761-1d3b95d36452",
   "metadata": {},
   "outputs": [
    {
     "data": {
      "text/html": [
       "<div>\n",
       "<style scoped>\n",
       "    .dataframe tbody tr th:only-of-type {\n",
       "        vertical-align: middle;\n",
       "    }\n",
       "\n",
       "    .dataframe tbody tr th {\n",
       "        vertical-align: top;\n",
       "    }\n",
       "\n",
       "    .dataframe thead th {\n",
       "        text-align: right;\n",
       "    }\n",
       "</style>\n",
       "<table border=\"1\" class=\"dataframe\">\n",
       "  <thead>\n",
       "    <tr style=\"text-align: right;\">\n",
       "      <th></th>\n",
       "      <th>Name</th>\n",
       "      <th>Age</th>\n",
       "      <th>Gender</th>\n",
       "    </tr>\n",
       "  </thead>\n",
       "  <tbody>\n",
       "    <tr>\n",
       "      <th>0</th>\n",
       "      <td>Alice</td>\n",
       "      <td>25</td>\n",
       "      <td>Female</td>\n",
       "    </tr>\n",
       "    <tr>\n",
       "      <th>1</th>\n",
       "      <td>Bob</td>\n",
       "      <td>30</td>\n",
       "      <td>Male</td>\n",
       "    </tr>\n",
       "    <tr>\n",
       "      <th>2</th>\n",
       "      <td>Claire</td>\n",
       "      <td>27</td>\n",
       "      <td>Female</td>\n",
       "    </tr>\n",
       "  </tbody>\n",
       "</table>\n",
       "</div>"
      ],
      "text/plain": [
       "     Name  Age  Gender\n",
       "0   Alice   25  Female\n",
       "1     Bob   30    Male\n",
       "2  Claire   27  Female"
      ]
     },
     "execution_count": 3,
     "metadata": {},
     "output_type": "execute_result"
    }
   ],
   "source": [
    "data={\"Name\":[\"Alice\",\"Bob\",\"Claire\"],\n",
    "      \"Age\":[25,30,27],\n",
    "      \"Gender\":[\"Female\",\"Male\",\"Female\"]\n",
    "     }\n",
    "df=pd.DataFrame(data)\n",
    "df"
   ]
  },
  {
   "cell_type": "markdown",
   "id": "9dbfacd7-a2f6-441a-8585-eaaf32ef124a",
   "metadata": {},
   "source": [
    "Q4. What is ‘DataFrame’ in pandas and how is it different from pandas.series? Explain with an example."
   ]
  },
  {
   "cell_type": "code",
   "execution_count": 4,
   "id": "f47a4d82-02a9-463f-875c-b1aa598f5fcd",
   "metadata": {},
   "outputs": [
    {
     "name": "stdout",
     "output_type": "stream",
     "text": [
      "0    10\n",
      "1    20\n",
      "2    30\n",
      "3    40\n",
      "4    50\n",
      "dtype: int64\n",
      "   A  B\n",
      "0  1  a\n",
      "1  2  b\n",
      "2  3  c\n",
      "3  4  d\n",
      "4  5  e\n"
     ]
    }
   ],
   "source": [
    "\"\"\"A DataFrame in pandas is a 2-dimensional labeled data structure\n",
    "   that can hold data of different types. It consists of rows and \n",
    "   columns, similar to a table in a relational database. In contrast, \n",
    "   a pandas.Series is a 1-dimensional labeled array. \"\"\"\n",
    "\n",
    "#Example\n",
    "\n",
    "series = pd.Series([10, 20, 30, 40, 50])\n",
    "dataframe = pd.DataFrame({'A': [1, 2, 3, 4, 5], 'B': ['a', 'b', 'c', 'd', 'e']})\n",
    "print(series)\n",
    "print(dataframe)"
   ]
  },
  {
   "cell_type": "markdown",
   "id": "52e300db-26f6-4323-9a45-d10fb5e368a6",
   "metadata": {},
   "source": [
    "Q5. What are some common functions you can use to manipulate data in a Pandas DataFrame? Can\n",
    "you give an example of when you might use one of these functions?"
   ]
  },
  {
   "cell_type": "code",
   "execution_count": null,
   "id": "c853dc17-431e-43b8-9f58-7278aea07297",
   "metadata": {},
   "outputs": [],
   "source": [
    "\"\"\"\n",
    "df.head(n): Returns the first n rows of the DataFrame.\n",
    "Example: df.head(10) returns the top 10 rows of the DataFrame.\n",
    "\n",
    "df.tail(n): Returns the last n rows of the DataFrame.\n",
    "Example: df.tail(5) returns the bottom 5 rows of the DataFrame.\n",
    "\n",
    "\n",
    "df.info(): Provides a concise summary of the DataFrame, including \n",
    "data types and non-null counts.\n",
    "Example: df.info() gives information about the DataFrame's structure.\n",
    "\n",
    "\n",
    "df.describe(): Generates descriptive statistics of the numerical columns\n",
    "in the DataFrame.\n",
    "Example: df.describe() displays statistics like mean, standard deviation,\n",
    "minimum, maximum, etc., for the numerical columns.\n",
    "         \n",
    "\n",
    "df.groupby(): Groups the DataFrame by one or more columns, allowing for\n",
    "aggregation operations.\n",
    "Example: df.groupby('category').mean() calculates the mean value for each\n",
    "category in a specific column.\n",
    "\n",
    "\n",
    "df.sort_values(): Sorts the DataFrame by one or more columns.\n",
    "Example: df.sort_values('column_name', ascending=False) sorts the DataFrame\n",
    "by the values in 'column_name' in descending order.\"\"\""
   ]
  },
  {
   "cell_type": "markdown",
   "id": "26509e75-bc8c-411d-969c-6cb0f03ff8c5",
   "metadata": {},
   "source": [
    "Q6. Which of the following is mutable in nature Series, DataFrame, Panel?"
   ]
  },
  {
   "cell_type": "code",
   "execution_count": null,
   "id": "04f3b818-cef2-429d-afbb-11db910c4c90",
   "metadata": {},
   "outputs": [],
   "source": [
    "\"\"\"Series and DataFrame are mutable, meaning their values can be modified\n",
    "   after creation. However, Panel, which is a 3-dimensional data structure,\n",
    "   has been deprecated and is no longer actively supported\"\"\""
   ]
  },
  {
   "cell_type": "markdown",
   "id": "f9765789-a2b3-4d45-a686-0f53935d80d1",
   "metadata": {},
   "source": [
    "Q7. Create a DataFrame using multiple Series. Explain with an example."
   ]
  },
  {
   "cell_type": "code",
   "execution_count": 7,
   "id": "806e909c-9e9f-4e07-89bb-e50ce7ee5577",
   "metadata": {},
   "outputs": [
    {
     "data": {
      "text/html": [
       "<div>\n",
       "<style scoped>\n",
       "    .dataframe tbody tr th:only-of-type {\n",
       "        vertical-align: middle;\n",
       "    }\n",
       "\n",
       "    .dataframe tbody tr th {\n",
       "        vertical-align: top;\n",
       "    }\n",
       "\n",
       "    .dataframe thead th {\n",
       "        text-align: right;\n",
       "    }\n",
       "</style>\n",
       "<table border=\"1\" class=\"dataframe\">\n",
       "  <thead>\n",
       "    <tr style=\"text-align: right;\">\n",
       "      <th></th>\n",
       "      <th>Name</th>\n",
       "      <th>Age</th>\n",
       "      <th>Gender</th>\n",
       "    </tr>\n",
       "  </thead>\n",
       "  <tbody>\n",
       "    <tr>\n",
       "      <th>0</th>\n",
       "      <td>Alice</td>\n",
       "      <td>25</td>\n",
       "      <td>Female</td>\n",
       "    </tr>\n",
       "    <tr>\n",
       "      <th>1</th>\n",
       "      <td>Bob</td>\n",
       "      <td>30</td>\n",
       "      <td>Male</td>\n",
       "    </tr>\n",
       "    <tr>\n",
       "      <th>2</th>\n",
       "      <td>Claire</td>\n",
       "      <td>27</td>\n",
       "      <td>Female</td>\n",
       "    </tr>\n",
       "  </tbody>\n",
       "</table>\n",
       "</div>"
      ],
      "text/plain": [
       "     Name  Age  Gender\n",
       "0   Alice   25  Female\n",
       "1     Bob   30    Male\n",
       "2  Claire   27  Female"
      ]
     },
     "execution_count": 7,
     "metadata": {},
     "output_type": "execute_result"
    }
   ],
   "source": [
    "\"\"\"To create a DataFrame using multiple Series, you can pass a dictionary \n",
    "   of Series objects to the pd.DataFrame() constructor. Each Series becomes\\\n",
    "   a column in the resulting DataFrame.\"\"\"\n",
    "\n",
    "#Example\n",
    "\n",
    "name=pd.Series([\"Alice\",\"Bob\",\"Claire\"])\n",
    "age=pd.Series([25,30,27])\n",
    "gender=pd.Series([\"Female\",\"Male\",\"Female\"])\n",
    "\n",
    "data={\"Name\":name,\"Age\":age,\"Gender\":gender}\n",
    "\n",
    "df=pd.DataFrame(data)\n",
    "df"
   ]
  },
  {
   "cell_type": "code",
   "execution_count": 18,
   "id": "876f2fc3-0e0a-444b-ba80-0d59f671d200",
   "metadata": {},
   "outputs": [
    {
     "data": {
      "text/html": [
       "<div>\n",
       "<style scoped>\n",
       "    .dataframe tbody tr th:only-of-type {\n",
       "        vertical-align: middle;\n",
       "    }\n",
       "\n",
       "    .dataframe tbody tr th {\n",
       "        vertical-align: top;\n",
       "    }\n",
       "\n",
       "    .dataframe thead th {\n",
       "        text-align: right;\n",
       "    }\n",
       "</style>\n",
       "<table border=\"1\" class=\"dataframe\">\n",
       "  <thead>\n",
       "    <tr style=\"text-align: right;\">\n",
       "      <th></th>\n",
       "      <th>date</th>\n",
       "      <th>sales</th>\n",
       "      <th>month</th>\n",
       "    </tr>\n",
       "  </thead>\n",
       "  <tbody>\n",
       "    <tr>\n",
       "      <th>0</th>\n",
       "      <td>2022-01-01</td>\n",
       "      <td>100</td>\n",
       "      <td>1</td>\n",
       "    </tr>\n",
       "    <tr>\n",
       "      <th>1</th>\n",
       "      <td>2022-02-01</td>\n",
       "      <td>200</td>\n",
       "      <td>2</td>\n",
       "    </tr>\n",
       "    <tr>\n",
       "      <th>2</th>\n",
       "      <td>2022-03-01</td>\n",
       "      <td>300</td>\n",
       "      <td>3</td>\n",
       "    </tr>\n",
       "  </tbody>\n",
       "</table>\n",
       "</div>"
      ],
      "text/plain": [
       "        date  sales  month\n",
       "0 2022-01-01    100      1\n",
       "1 2022-02-01    200      2\n",
       "2 2022-03-01    300      3"
      ]
     },
     "execution_count": 18,
     "metadata": {},
     "output_type": "execute_result"
    }
   ],
   "source": [
    "import pandas as pd\n",
    "\n",
    " \n",
    "\n",
    "data = {'date': ['2022-01-01', '2022-02-01', '2022-03-01'], 'sales': [100, 200, 300]}\n",
    "\n",
    "df = pd.DataFrame(data)\n",
    "\n",
    " \n",
    "\n",
    "df['date'] = pd.to_datetime(df['date'])\n",
    "\n",
    "df['month'] = df['date'].dt.month\n",
    "\n",
    "df"
   ]
  }
 ],
 "metadata": {
  "kernelspec": {
   "display_name": "Python 3 (ipykernel)",
   "language": "python",
   "name": "python3"
  },
  "language_info": {
   "codemirror_mode": {
    "name": "ipython",
    "version": 3
   },
   "file_extension": ".py",
   "mimetype": "text/x-python",
   "name": "python",
   "nbconvert_exporter": "python",
   "pygments_lexer": "ipython3",
   "version": "3.10.8"
  }
 },
 "nbformat": 4,
 "nbformat_minor": 5
}
