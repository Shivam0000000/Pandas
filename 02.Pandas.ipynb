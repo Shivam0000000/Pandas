{
 "cells": [
  {
   "cell_type": "markdown",
   "id": "87b84d29-4516-49dd-ac69-f400f3d9c609",
   "metadata": {},
   "source": [
    "Q1. List any five functions of the pandas library with execution."
   ]
  },
  {
   "cell_type": "code",
   "execution_count": 7,
   "id": "ee4c041d-a082-4b67-bf76-46114aae9c6a",
   "metadata": {},
   "outputs": [
    {
     "name": "stdout",
     "output_type": "stream",
     "text": [
      "       PassengerId    Survived      Pclass         Age       SibSp  \\\n",
      "count   891.000000  891.000000  891.000000  714.000000  891.000000   \n",
      "mean    446.000000    0.383838    2.308642   29.699118    0.523008   \n",
      "std     257.353842    0.486592    0.836071   14.526497    1.102743   \n",
      "min       1.000000    0.000000    1.000000    0.420000    0.000000   \n",
      "25%     223.500000    0.000000    2.000000   20.125000    0.000000   \n",
      "50%     446.000000    0.000000    3.000000   28.000000    0.000000   \n",
      "75%     668.500000    1.000000    3.000000   38.000000    1.000000   \n",
      "max     891.000000    1.000000    3.000000   80.000000    8.000000   \n",
      "\n",
      "            Parch        Fare  \n",
      "count  891.000000  891.000000  \n",
      "mean     0.381594   32.204208  \n",
      "std      0.806057   49.693429  \n",
      "min      0.000000    0.000000  \n",
      "25%      0.000000    7.910400  \n",
      "50%      0.000000   14.454200  \n",
      "75%      0.000000   31.000000  \n",
      "max      6.000000  512.329200  \n",
      "<class 'pandas.core.frame.DataFrame'>\n",
      "RangeIndex: 891 entries, 0 to 890\n",
      "Data columns (total 12 columns):\n",
      " #   Column       Non-Null Count  Dtype  \n",
      "---  ------       --------------  -----  \n",
      " 0   PassengerId  891 non-null    int64  \n",
      " 1   Survived     891 non-null    int64  \n",
      " 2   Pclass       891 non-null    int64  \n",
      " 3   Name         891 non-null    object \n",
      " 4   Sex          891 non-null    object \n",
      " 5   Age          714 non-null    float64\n",
      " 6   SibSp        891 non-null    int64  \n",
      " 7   Parch        891 non-null    int64  \n",
      " 8   Ticket       891 non-null    object \n",
      " 9   Fare         891 non-null    float64\n",
      " 10  Cabin        204 non-null    object \n",
      " 11  Embarked     889 non-null    object \n",
      "dtypes: float64(2), int64(5), object(5)\n",
      "memory usage: 83.7+ KB\n",
      "None\n",
      "0    549\n",
      "1    342\n",
      "Name: Survived, dtype: int64\n",
      "   PassengerId\n",
      "0            1\n",
      "1            2\n",
      "2            3\n",
      "   PassengerId  Survived  Pclass\n",
      "0            1         0       3\n",
      "1            2         1       1\n"
     ]
    }
   ],
   "source": [
    "import pandas as pd\n",
    "df= pd.read_csv(\"https://raw.githubusercontent.com/datasciencedojo/datasets/master/titanic.csv\")\n",
    "\n",
    "print(df.describe())\n",
    "print(df.info())\n",
    "print(df[\"Survived\"].value_counts())\n",
    "print(df.loc[0:2,['PassengerId']])\n",
    "print(df.iloc[0:2,[0,1,2]])"
   ]
  },
  {
   "cell_type": "markdown",
   "id": "f79abf02-8d21-4cae-989e-c799e83647f4",
   "metadata": {},
   "source": [
    "Q2. Given a Pandas DataFrame df with columns 'A', 'B', and 'C', write a Python function to re-index the\n",
    "DataFrame with a new index that starts from 1 and increments by 2 for each row."
   ]
  },
  {
   "cell_type": "code",
   "execution_count": 25,
   "id": "dad9df3d-9fa0-4da6-ae6f-7a4f56dd5e24",
   "metadata": {},
   "outputs": [
    {
     "data": {
      "text/html": [
       "<div>\n",
       "<style scoped>\n",
       "    .dataframe tbody tr th:only-of-type {\n",
       "        vertical-align: middle;\n",
       "    }\n",
       "\n",
       "    .dataframe tbody tr th {\n",
       "        vertical-align: top;\n",
       "    }\n",
       "\n",
       "    .dataframe thead th {\n",
       "        text-align: right;\n",
       "    }\n",
       "</style>\n",
       "<table border=\"1\" class=\"dataframe\">\n",
       "  <thead>\n",
       "    <tr style=\"text-align: right;\">\n",
       "      <th></th>\n",
       "      <th>A</th>\n",
       "      <th>B</th>\n",
       "      <th>C</th>\n",
       "    </tr>\n",
       "  </thead>\n",
       "  <tbody>\n",
       "    <tr>\n",
       "      <th>1</th>\n",
       "      <td>1</td>\n",
       "      <td>a</td>\n",
       "      <td>!</td>\n",
       "    </tr>\n",
       "    <tr>\n",
       "      <th>3</th>\n",
       "      <td>2</td>\n",
       "      <td>b</td>\n",
       "      <td>@</td>\n",
       "    </tr>\n",
       "    <tr>\n",
       "      <th>5</th>\n",
       "      <td>3</td>\n",
       "      <td>c</td>\n",
       "      <td>#</td>\n",
       "    </tr>\n",
       "    <tr>\n",
       "      <th>7</th>\n",
       "      <td>4</td>\n",
       "      <td>d</td>\n",
       "      <td>$</td>\n",
       "    </tr>\n",
       "    <tr>\n",
       "      <th>9</th>\n",
       "      <td>5</td>\n",
       "      <td>e</td>\n",
       "      <td>%</td>\n",
       "    </tr>\n",
       "  </tbody>\n",
       "</table>\n",
       "</div>"
      ],
      "text/plain": [
       "   A  B  C\n",
       "1  1  a  !\n",
       "3  2  b  @\n",
       "5  3  c  #\n",
       "7  4  d  $\n",
       "9  5  e  %"
      ]
     },
     "execution_count": 25,
     "metadata": {},
     "output_type": "execute_result"
    }
   ],
   "source": [
    "df = pd.DataFrame({'A': [1, 2, 3, 4, 5], 'B': ['a', 'b', 'c', 'd', 'e'],'C':['!','@','#','$','%']})\n",
    "n=len(df)*2\n",
    "new_index=pd.RangeIndex(start=1, stop=n, step=2)\n",
    "df.index=new_index\n",
    "df"
   ]
  },
  {
   "cell_type": "markdown",
   "id": "00ca4db6-fc39-4b82-9bf9-270a4d433a87",
   "metadata": {},
   "source": [
    "Q3. You have a Pandas DataFrame df with a column named 'Values'. Write a Python function that\n",
    "iterates over the DataFrame and calculates the sum of the first three values in the 'Values' column. The\n",
    "function should print the sum to the console.\n",
    "\n",
    "For example, if the 'Values' column of df contains the values [10, 20, 30, 40, 50], your function should\n",
    "calculate and print the sum of the first three values, which is 60."
   ]
  },
  {
   "cell_type": "code",
   "execution_count": 31,
   "id": "0fd2ac38-4397-4f92-a8dc-7065cd9af125",
   "metadata": {},
   "outputs": [
    {
     "data": {
      "text/plain": [
       "Value    60\n",
       "dtype: int64"
      ]
     },
     "execution_count": 31,
     "metadata": {},
     "output_type": "execute_result"
    }
   ],
   "source": [
    "df=pd.DataFrame({\"Value\":[10,20,30,40,50]})\n",
    "df[df.index<3].sum()"
   ]
  },
  {
   "cell_type": "markdown",
   "id": "b0a5dfed-5e17-4f5a-a30f-09f796b4185d",
   "metadata": {},
   "source": [
    "Q4. Given a Pandas DataFrame df with a column 'Text', write a Python function to create a new column\n",
    "'Word_Count' that contains the number of words in each row of the 'Text' column."
   ]
  },
  {
   "cell_type": "code",
   "execution_count": 43,
   "id": "2dc62d10-480e-4ab8-9436-59bb5a053d32",
   "metadata": {},
   "outputs": [
    {
     "data": {
      "text/html": [
       "<div>\n",
       "<style scoped>\n",
       "    .dataframe tbody tr th:only-of-type {\n",
       "        vertical-align: middle;\n",
       "    }\n",
       "\n",
       "    .dataframe tbody tr th {\n",
       "        vertical-align: top;\n",
       "    }\n",
       "\n",
       "    .dataframe thead th {\n",
       "        text-align: right;\n",
       "    }\n",
       "</style>\n",
       "<table border=\"1\" class=\"dataframe\">\n",
       "  <thead>\n",
       "    <tr style=\"text-align: right;\">\n",
       "      <th></th>\n",
       "      <th>Text</th>\n",
       "      <th>Word_Count</th>\n",
       "    </tr>\n",
       "  </thead>\n",
       "  <tbody>\n",
       "    <tr>\n",
       "      <th>0</th>\n",
       "      <td>Through the dense forest, a lone wolf howled at the silver moon above. Leave...</td>\n",
       "      <td>49</td>\n",
       "    </tr>\n",
       "  </tbody>\n",
       "</table>\n",
       "</div>"
      ],
      "text/plain": [
       "                                                                              Text  \\\n",
       "0  Through the dense forest, a lone wolf howled at the silver moon above. Leave...   \n",
       "\n",
       "   Word_Count  \n",
       "0          49  "
      ]
     },
     "execution_count": 43,
     "metadata": {},
     "output_type": "execute_result"
    }
   ],
   "source": [
    "df=pd.DataFrame({\"Text\":[\"Through the dense forest, a lone wolf howled at the silver moon above. Leaves rustled as a gentle breeze whispered secrets to the night. Stars sparkled, painting the sky with their ethereal glow. Nature's symphony played, filling the air with harmony. In this enchanting moment, magic embraced the world.\"]})\n",
    "pd.set_option(\"display.max_colwidth\" ,80)\n",
    "df[\"Word_Count\"]=df[\"Text\"].apply(lambda x:len(x.split()))\n",
    "df"
   ]
  },
  {
   "cell_type": "markdown",
   "id": "b2f51bda-d818-4f77-99ac-c881832f9d83",
   "metadata": {},
   "source": [
    "Q5. How are DataFrame.size() and DataFrame.shape() different?"
   ]
  },
  {
   "cell_type": "code",
   "execution_count": null,
   "id": "24383d96-5f8b-4397-91d6-2b12c33be11f",
   "metadata": {},
   "outputs": [],
   "source": [
    "\"\"\"DataFrame.size() returns the total number of elements in a DataFrame.\n",
    "   DataFrame.shape() returns a tuple representing the dimensions of the DataFrame.\"\"\""
   ]
  },
  {
   "cell_type": "markdown",
   "id": "67d14d86-e92b-4073-8b10-c7341937d186",
   "metadata": {},
   "source": [
    "Q6. Which function of pandas do we use to read an excel file?"
   ]
  },
  {
   "cell_type": "code",
   "execution_count": null,
   "id": "f0e2bf64-408e-48c6-b5ec-de17f317f1a5",
   "metadata": {},
   "outputs": [],
   "source": [
    "\"\"\"pandas.read_excel(data.xlsx) : function use to read Excel file\""
   ]
  },
  {
   "cell_type": "markdown",
   "id": "2f1ec2b9-c0d7-492c-a409-771b556cb089",
   "metadata": {},
   "source": [
    "Q7. You have a Pandas DataFrame df that contains a column named 'Email' that contains email\n",
    "addresses in the format 'username@domain.com'. Write a Python function that creates a new column\n",
    "'Username' in df that contains only the username part of each email address.\n",
    "\n",
    "The username is the part of the email address that appears before the '@' symbol. For example, if the\n",
    "email address is 'john.doe@example.com', the 'Username' column should contain 'john.doe'. Your\n",
    "function should extract the username from each email address and store it in the new 'Username'\n",
    "column."
   ]
  },
  {
   "cell_type": "code",
   "execution_count": 7,
   "id": "c1cdc516-0205-44e8-8ea6-093d689f2df1",
   "metadata": {},
   "outputs": [
    {
     "data": {
      "text/html": [
       "<div>\n",
       "<style scoped>\n",
       "    .dataframe tbody tr th:only-of-type {\n",
       "        vertical-align: middle;\n",
       "    }\n",
       "\n",
       "    .dataframe tbody tr th {\n",
       "        vertical-align: top;\n",
       "    }\n",
       "\n",
       "    .dataframe thead th {\n",
       "        text-align: right;\n",
       "    }\n",
       "</style>\n",
       "<table border=\"1\" class=\"dataframe\">\n",
       "  <thead>\n",
       "    <tr style=\"text-align: right;\">\n",
       "      <th></th>\n",
       "      <th>Email</th>\n",
       "      <th>Username</th>\n",
       "    </tr>\n",
       "  </thead>\n",
       "  <tbody>\n",
       "    <tr>\n",
       "      <th>0</th>\n",
       "      <td>oconnell.adelle@hessel.com</td>\n",
       "      <td>oconnell.adelle</td>\n",
       "    </tr>\n",
       "    <tr>\n",
       "      <th>1</th>\n",
       "      <td>luettgen.conor@hotmail.com</td>\n",
       "      <td>luettgen.conor</td>\n",
       "    </tr>\n",
       "    <tr>\n",
       "      <th>2</th>\n",
       "      <td>balistreri.marianna@monahan.com</td>\n",
       "      <td>balistreri.marianna</td>\n",
       "    </tr>\n",
       "    <tr>\n",
       "      <th>3</th>\n",
       "      <td>dorothea81@gmail.com</td>\n",
       "      <td>dorothea81</td>\n",
       "    </tr>\n",
       "    <tr>\n",
       "      <th>4</th>\n",
       "      <td>gust54@yahoo.com</td>\n",
       "      <td>gust54</td>\n",
       "    </tr>\n",
       "    <tr>\n",
       "      <th>5</th>\n",
       "      <td>qwitting@gmail.com</td>\n",
       "      <td>qwitting</td>\n",
       "    </tr>\n",
       "    <tr>\n",
       "      <th>6</th>\n",
       "      <td>leonie79@yahoo.com</td>\n",
       "      <td>leonie79</td>\n",
       "    </tr>\n",
       "    <tr>\n",
       "      <th>7</th>\n",
       "      <td>makayla06@gmail.com</td>\n",
       "      <td>makayla06</td>\n",
       "    </tr>\n",
       "    <tr>\n",
       "      <th>8</th>\n",
       "      <td>lenora20@monahan.net</td>\n",
       "      <td>lenora20</td>\n",
       "    </tr>\n",
       "    <tr>\n",
       "      <th>9</th>\n",
       "      <td>juanita.armstrong@botsford.com</td>\n",
       "      <td>juanita.armstrong</td>\n",
       "    </tr>\n",
       "  </tbody>\n",
       "</table>\n",
       "</div>"
      ],
      "text/plain": [
       "                             Email             Username\n",
       "0       oconnell.adelle@hessel.com      oconnell.adelle\n",
       "1       luettgen.conor@hotmail.com       luettgen.conor\n",
       "2  balistreri.marianna@monahan.com  balistreri.marianna\n",
       "3             dorothea81@gmail.com           dorothea81\n",
       "4                 gust54@yahoo.com               gust54\n",
       "5               qwitting@gmail.com             qwitting\n",
       "6               leonie79@yahoo.com             leonie79\n",
       "7              makayla06@gmail.com            makayla06\n",
       "8             lenora20@monahan.net             lenora20\n",
       "9   juanita.armstrong@botsford.com    juanita.armstrong"
      ]
     },
     "execution_count": 7,
     "metadata": {},
     "output_type": "execute_result"
    }
   ],
   "source": [
    "import pandas as pd\n",
    "\n",
    "data={\"Email\":[\"oconnell.adelle@hessel.com\",\"luettgen.conor@hotmail.com\",\"balistreri.marianna@monahan.com\",\n",
    "\"dorothea81@gmail.com\",\"gust54@yahoo.com\",\"qwitting@gmail.com\",\"leonie79@yahoo.com\",\"makayla06@gmail.com\",\n",
    "               \"lenora20@monahan.net\",\"juanita.armstrong@botsford.com\"]}\n",
    "\n",
    "df=pd.DataFrame(data)\n",
    "df[\"Username\"]=df[\"Email\"].apply(lambda x: x.split(\"@\")[0])\n",
    "df"
   ]
  },
  {
   "cell_type": "markdown",
   "id": "da747f35-804b-46d5-8346-7fbee95359b9",
   "metadata": {},
   "source": [
    "Q8. You have a Pandas DataFrame df with columns 'A', 'B', and 'C'. Write a Python function that selects\n",
    "all rows where the value in column 'A' is greater than 5 and the value in column 'B' is less than 10. The\n",
    "function should return a new DataFrame that contains only the selected rows.\n",
    "\n",
    "\n",
    "For example, if df contains the following values:\n",
    "\n",
    "A B C\n",
    "\n",
    "0 3 5 1\n",
    "\n",
    "1 8 2 7\n",
    "\n",
    "2 6 9 4\n",
    "\n",
    "3 2 3 5\n",
    "\n",
    "4 9 1 2"
   ]
  },
  {
   "cell_type": "code",
   "execution_count": 14,
   "id": "acc6dabd-cf36-41bb-bd3a-a0b6cde38895",
   "metadata": {},
   "outputs": [
    {
     "data": {
      "text/html": [
       "<div>\n",
       "<style scoped>\n",
       "    .dataframe tbody tr th:only-of-type {\n",
       "        vertical-align: middle;\n",
       "    }\n",
       "\n",
       "    .dataframe tbody tr th {\n",
       "        vertical-align: top;\n",
       "    }\n",
       "\n",
       "    .dataframe thead th {\n",
       "        text-align: right;\n",
       "    }\n",
       "</style>\n",
       "<table border=\"1\" class=\"dataframe\">\n",
       "  <thead>\n",
       "    <tr style=\"text-align: right;\">\n",
       "      <th></th>\n",
       "      <th>A</th>\n",
       "      <th>B</th>\n",
       "      <th>C</th>\n",
       "    </tr>\n",
       "  </thead>\n",
       "  <tbody>\n",
       "    <tr>\n",
       "      <th>1</th>\n",
       "      <td>8</td>\n",
       "      <td>2</td>\n",
       "      <td>7</td>\n",
       "    </tr>\n",
       "    <tr>\n",
       "      <th>2</th>\n",
       "      <td>6</td>\n",
       "      <td>9</td>\n",
       "      <td>4</td>\n",
       "    </tr>\n",
       "    <tr>\n",
       "      <th>4</th>\n",
       "      <td>9</td>\n",
       "      <td>1</td>\n",
       "      <td>2</td>\n",
       "    </tr>\n",
       "  </tbody>\n",
       "</table>\n",
       "</div>"
      ],
      "text/plain": [
       "   A  B  C\n",
       "1  8  2  7\n",
       "2  6  9  4\n",
       "4  9  1  2"
      ]
     },
     "execution_count": 14,
     "metadata": {},
     "output_type": "execute_result"
    }
   ],
   "source": [
    "data={\"A\":[3,8,6,2,9],\"B\":[5,2,9,3,1],\"C\":[1,7,4,5,2]}\n",
    "\n",
    "df=pd.DataFrame(data)\n",
    "\n",
    "df[(df[\"A\"]>5) & (df[\"B\"]<10)]"
   ]
  }
 ],
 "metadata": {
  "kernelspec": {
   "display_name": "Python 3 (ipykernel)",
   "language": "python",
   "name": "python3"
  },
  "language_info": {
   "codemirror_mode": {
    "name": "ipython",
    "version": 3
   },
   "file_extension": ".py",
   "mimetype": "text/x-python",
   "name": "python",
   "nbconvert_exporter": "python",
   "pygments_lexer": "ipython3",
   "version": "3.10.8"
  }
 },
 "nbformat": 4,
 "nbformat_minor": 5
}
