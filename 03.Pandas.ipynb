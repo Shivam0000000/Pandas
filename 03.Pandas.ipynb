{
 "cells": [
  {
   "cell_type": "markdown",
   "id": "4cb307ab-b7be-4280-8638-26c93ddb9373",
   "metadata": {},
   "source": [
    "Consider following code to answer further questions:\n",
    "\n",
    "import pandas as pd\n",
    "\n",
    "course_name = [‘Data Science’, ‘Machine Learning’, ‘Big Data’, ‘Data Engineer’]\n",
    "\n",
    "duration = [2,3,6,4]\n",
    "\n",
    "df = pd.DataFrame(data = {‘course_name’ : course_name, ‘duration’ : duration})"
   ]
  },
  {
   "cell_type": "markdown",
   "id": "9abf8e19-dc0a-4aca-bc06-f0544b555f02",
   "metadata": {},
   "source": [
    "Q1. Write a code to print the data present in the second row of the dataframe, df."
   ]
  },
  {
   "cell_type": "code",
   "execution_count": 1,
   "id": "025b5351-d27a-4778-8f69-a91681a10aed",
   "metadata": {},
   "outputs": [
    {
     "data": {
      "text/html": [
       "<div>\n",
       "<style scoped>\n",
       "    .dataframe tbody tr th:only-of-type {\n",
       "        vertical-align: middle;\n",
       "    }\n",
       "\n",
       "    .dataframe tbody tr th {\n",
       "        vertical-align: top;\n",
       "    }\n",
       "\n",
       "    .dataframe thead th {\n",
       "        text-align: right;\n",
       "    }\n",
       "</style>\n",
       "<table border=\"1\" class=\"dataframe\">\n",
       "  <thead>\n",
       "    <tr style=\"text-align: right;\">\n",
       "      <th></th>\n",
       "      <th>course_name</th>\n",
       "      <th>duration</th>\n",
       "    </tr>\n",
       "  </thead>\n",
       "  <tbody>\n",
       "    <tr>\n",
       "      <th>2</th>\n",
       "      <td>Big Data</td>\n",
       "      <td>6</td>\n",
       "    </tr>\n",
       "  </tbody>\n",
       "</table>\n",
       "</div>"
      ],
      "text/plain": [
       "  course_name  duration\n",
       "2    Big Data         6"
      ]
     },
     "execution_count": 1,
     "metadata": {},
     "output_type": "execute_result"
    }
   ],
   "source": [
    "import pandas as pd\n",
    "\n",
    "course_name = ['Data Science', 'Machine Learning', 'Big Data', 'Data Engineer']\n",
    "\n",
    "duration = [2,3,6,4]\n",
    "\n",
    "df = pd.DataFrame(data = {'course_name': course_name, 'duration' : duration})\n",
    "df[df.index==2]"
   ]
  },
  {
   "cell_type": "markdown",
   "id": "7737c77f-4383-4651-86f6-f24668740fc3",
   "metadata": {},
   "source": [
    "Q2. What is the difference between the functions loc and iloc in pandas.DataFrame?"
   ]
  },
  {
   "cell_type": "code",
   "execution_count": 2,
   "id": "a0eb1db2-2895-46fb-b5b4-95584d8eff2b",
   "metadata": {},
   "outputs": [
    {
     "data": {
      "text/plain": [
       "'loc function in pandas DataFrame is used for label-based indexing, meaning\\n   it selects data based on row and column labels. On the other hand.\\n   \\n   iloc function is used for integer-based indexing, selecting data based on\\n   the integer position of rows and columns.'"
      ]
     },
     "execution_count": 2,
     "metadata": {},
     "output_type": "execute_result"
    }
   ],
   "source": [
    "\"\"\"loc function in pandas DataFrame is used for label-based indexing, meaning\n",
    "   it selects data based on row and column labels. On the other hand.\n",
    "   \n",
    "   iloc function is used for integer-based indexing, selecting data based on\n",
    "   the integer position of rows and columns.\"\"\""
   ]
  },
  {
   "cell_type": "markdown",
   "id": "16c55b30-eba2-4340-baa5-158a4b97454f",
   "metadata": {},
   "source": [
    "Q3. Reindex the given dataframe using a variable, reindex = [3,0,1,2] and store it in the variable, new_df\n",
    "then find the output for both new_df.loc[2] and new_df.iloc[2].\n",
    "\n",
    "Did you observe any difference in both the outputs? If so then explain it.\n",
    "\n",
    "Consider the below code to answer further questions:\n",
    "\n",
    "import pandas as pd\n",
    "\n",
    "import numpy as np\n",
    "\n",
    "columns = ['column_1', 'column_2', 'column_3', 'column_4', 'column_5', 'column_6']\n",
    "\n",
    "indices = [1,2,3,4,5,6]\n",
    "\n",
    "#Creating a dataframe:\n",
    "\n",
    "df1 = pd.DataFrame(np.random.rand(6,6), columns = columns, index = indices)"
   ]
  },
  {
   "cell_type": "code",
   "execution_count": 3,
   "id": "dc44597c-78ef-41be-997a-3ac98325db36",
   "metadata": {},
   "outputs": [
    {
     "name": "stdout",
     "output_type": "stream",
     "text": [
      "   column_1  column_2  column_3  column_4  column_5  column_6\n",
      "1  0.133009  0.481980  0.469979  0.780146  0.375243  0.668559\n",
      "2  0.228402  0.951513  0.925756  0.954970  0.033574  0.906775\n",
      "3  0.115485  0.190112  0.257996  0.173770  0.429409  0.873529\n",
      "4  0.583256  0.240302  0.700054  0.435063  0.534739  0.366001\n",
      "5  0.655168  0.633256  0.742874  0.830832  0.479802  0.282911\n",
      "course_name    Big Data\n",
      "duration              6\n",
      "Name: 2, dtype: object\n",
      "course_name    Machine Learning\n",
      "duration                      3\n",
      "Name: 1, dtype: object\n"
     ]
    },
    {
     "data": {
      "text/plain": [
       "'df1.iloc[2] will return the row with the position index 2 from the DataFrame\\n   new_df. It uses integer-based indexing, so it selects the row based on its \\n   position. Since we reindexed the DataFrame, the position/index 2 corresponds\\n   to the original index 3 of df1.'"
      ]
     },
     "execution_count": 3,
     "metadata": {},
     "output_type": "execute_result"
    }
   ],
   "source": [
    "import pandas as pd\n",
    "\n",
    "import numpy as np\n",
    "\n",
    "columns = ['column_1', 'column_2', 'column_3', 'column_4', 'column_5', 'column_6']\n",
    "\n",
    "indices = [1,2,3,4,5,6]\n",
    "\n",
    "#Creating a dataframe:\n",
    "\n",
    "df1 = pd.DataFrame(np.random.rand(6,6), columns = columns, index = indices)\n",
    "new_df=df.reindex([3,0,1,2])\n",
    "\n",
    "print(df1.head())\n",
    "print(new_df.loc[2])\n",
    "print(new_df.iloc[2])\n",
    "\n",
    "\"\"\" df1.loc[2] selects the row based on the label index rather than the position. \n",
    "    Since we reindexed the DataFrame using [3, 0, 1, 2], the index 2 \n",
    "    corresponds to the original index 1 of df1.\"\"\"\n",
    "\n",
    "\"\"\"df1.iloc[2] will return the row with the position index 2 from the DataFrame\n",
    "   new_df. It uses integer-based indexing, so it selects the row based on its \n",
    "   position. Since we reindexed the DataFrame, the position/index 2 corresponds\n",
    "   to the original index 3 of df1.\"\"\""
   ]
  },
  {
   "cell_type": "markdown",
   "id": "395f8849-2445-4359-8e99-1e9f96d51505",
   "metadata": {},
   "source": [
    "Q4. Write a code to find the following statistical measurements for the above dataframe df1:\n",
    "    \n",
    "(i) mean of each and every column present in the dataframe.\n",
    "\n",
    "(ii) standard deviation of column, ‘column_2’"
   ]
  },
  {
   "cell_type": "code",
   "execution_count": 4,
   "id": "20a120fa-61ea-4572-8e48-de607672c1f3",
   "metadata": {},
   "outputs": [
    {
     "name": "stdout",
     "output_type": "stream",
     "text": [
      "column_1    0.382247\n",
      "column_2    0.494520\n",
      "column_3    0.629838\n",
      "column_4    0.662601\n",
      "column_5    0.380545\n",
      "column_6    0.654770\n",
      "dtype: float64\n",
      "0.2778999783097791\n"
     ]
    }
   ],
   "source": [
    "print(df1.mean())\n",
    "print(df1['column_2'].std())"
   ]
  },
  {
   "cell_type": "markdown",
   "id": "ec53167a-f24d-43ab-82c3-e080c56b85e7",
   "metadata": {},
   "source": [
    "Q5. Replace the data present in the second row of column, ‘column_2’ by a string variable then find the\n",
    "mean of column, column_2.\n",
    "\n",
    "If you are getting errors in executing it then explain why.\n",
    "[Hint: To replace the data use df1.loc[] and equate this to string data of your choice.]"
   ]
  },
  {
   "cell_type": "code",
   "execution_count": 8,
   "id": "a5812bce-255a-47a5-81aa-db6fc86368bf",
   "metadata": {},
   "outputs": [],
   "source": [
    "df=df1.copy()\n",
    "df['column_2'].loc[2]='shivam'\n",
    " df['column_2'].mean() # it gives TypeError\n",
    "\n",
    "\"\"\"TypeError  \"unsupported operand type(s) for +: 'float'\n",
    "   and 'str'\", it means that you are trying to concatenate \n",
    "   a float value with a string using the '+' operator.\"\"\""
   ]
  },
  {
   "cell_type": "markdown",
   "id": "3996b4fe-559d-4438-a7c3-a7fb0cb4dc67",
   "metadata": {},
   "source": [
    "Q6. What do you understand about the windows function in pandas and list the types of windows\n",
    "functions?"
   ]
  },
  {
   "cell_type": "code",
   "execution_count": null,
   "id": "8a9195c7-a878-40c1-9a34-9c7c32b42f3d",
   "metadata": {},
   "outputs": [],
   "source": [
    "\"\"\"Window functions in pandas allow calculations and transformations\n",
    "   to be applied on specific subsets of data using defined windows.\n",
    "   \n",
    "   1.rolling window functions that operate on a fixed-size window.\n",
    "   2.expanding window functions that incorporate all preceding values. \n",
    "   3.cumulative window functions that include all preceding rows.\n",
    "   4.aggregation window functions that summarize values within the window.\n",
    "   \"\"\""
   ]
  },
  {
   "cell_type": "markdown",
   "id": "ad28e560-9857-419f-bd72-fd5f4c05201a",
   "metadata": {},
   "source": [
    "Q7. Write a code to print only the current month and year at the time of answering this question.\n",
    "[Hint: Use pandas.datetime function]"
   ]
  },
  {
   "cell_type": "code",
   "execution_count": 14,
   "id": "b858133a-0434-4527-9b6d-d37afff9ec7c",
   "metadata": {},
   "outputs": [
    {
     "name": "stderr",
     "output_type": "stream",
     "text": [
      "/tmp/ipykernel_758/3382957290.py:1: FutureWarning: The pandas.datetime class is deprecated and will be removed from pandas in a future version. Import from datetime module instead.\n",
      "  cur_month_year=pd.datetime.now().strftime('%B %Y')\n"
     ]
    },
    {
     "data": {
      "text/plain": [
       "'June 2023'"
      ]
     },
     "execution_count": 14,
     "metadata": {},
     "output_type": "execute_result"
    }
   ],
   "source": [
    "cur_month_year=pd.datetime.now().strftime('%B %Y')\n",
    "cur_month_year"
   ]
  },
  {
   "cell_type": "markdown",
   "id": "c505a84a-c8c2-4761-9003-59b1dacc29f1",
   "metadata": {},
   "source": [
    "Q8. Write a Python program that takes in two dates as input (in the format YYYY-MM-DD) and\n",
    "calculates the difference between them in days, hours, and minutes using Pandas time delta. The\n",
    "program should prompt the user to enter the dates and display the result."
   ]
  },
  {
   "cell_type": "code",
   "execution_count": 18,
   "id": "e966bde7-d5f1-4136-af6f-e539416cc32a",
   "metadata": {},
   "outputs": [
    {
     "data": {
      "text/plain": [
       "Timedelta('2 days 00:00:00')"
      ]
     },
     "execution_count": 18,
     "metadata": {},
     "output_type": "execute_result"
    }
   ],
   "source": [
    "time1=pd.to_datetime('2023-06-22')\n",
    "time2=pd.to_datetime('2023-06-20')\n",
    "\n",
    "pd.Timedelta(time1-time2 )"
   ]
  }
 ],
 "metadata": {
  "kernelspec": {
   "display_name": "Python 3 (ipykernel)",
   "language": "python",
   "name": "python3"
  },
  "language_info": {
   "codemirror_mode": {
    "name": "ipython",
    "version": 3
   },
   "file_extension": ".py",
   "mimetype": "text/x-python",
   "name": "python",
   "nbconvert_exporter": "python",
   "pygments_lexer": "ipython3",
   "version": "3.10.8"
  }
 },
 "nbformat": 4,
 "nbformat_minor": 5
}
